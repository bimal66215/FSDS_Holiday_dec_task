{
 "cells": [
  {
   "cell_type": "markdown",
   "id": "0c803847-a8c1-4a97-b072-7311f00a6623",
   "metadata": {},
   "source": [
    "<h1>Holiday Task"
   ]
  },
  {
   "cell_type": "markdown",
   "id": "0398461d-79a7-429f-97a3-0f3299c71f7e",
   "metadata": {},
   "source": [
    "<h3>1 . You have to write a fun which will take string and return a len of \n",
    "it without using a inbuilt fun len"
   ]
  },
  {
   "cell_type": "code",
   "execution_count": null,
   "id": "cc774db0-a77c-418b-b504-5b2320768ce1",
   "metadata": {},
   "outputs": [],
   "source": [
    "string = str(input(\"Please enter a string\"))\n",
    "\n",
    "def str_len(string):\n",
    "    '''\n",
    "    This func returns the length of the string\n",
    "    \n",
    "    '''\n",
    "    i=0\n",
    "    while True:\n",
    "        try :\n",
    "            temp = string[i]\n",
    "            i+=1\n",
    "        except Exception as e:\n",
    "            return i\n",
    "            break"
   ]
  },
  {
   "cell_type": "code",
   "execution_count": null,
   "id": "74adedc4-36fa-40bb-8b28-42c6e16a9113",
   "metadata": {},
   "outputs": [],
   "source": [
    "str_len(string)       "
   ]
  },
  {
   "cell_type": "markdown",
   "id": "6cb102b6-522c-44ca-8dec-a8c024212437",
   "metadata": {},
   "source": [
    "<h3>2 . Write a fun which will be able to print an index of all premitive element which you will pass "
   ]
  },
  {
   "cell_type": "code",
   "execution_count": null,
   "id": "092663fe-d186-49a3-8aa6-e33edc90d8da",
   "metadata": {},
   "outputs": [],
   "source": [
    "def data_input():\n",
    "    '''\n",
    "    This func will take the input with data type as either a list, tuple or string\n",
    "    and will return the data the entered data\n",
    "    \n",
    "    '''\n",
    "    data_type = str(input(\"What type of data you want to enter(available options: list,tuple,string): \"))\n",
    "    \n",
    "    if (data_type == \"list\" or data_type == \"tuple\"):\n",
    "        data = input(\"Enter the each element with space in between:  \")\n",
    "        if(data_type == \"list\"):\n",
    "            data = data.split(\" \")\n",
    "        else:\n",
    "            data = tuple(data.split(\" \"))\n",
    "            \n",
    "    if (data_type == \"string\"):\n",
    "        data = input(\"Enter the string:  \")\n",
    "    \n",
    "        \n",
    "    return data"
   ]
  },
  {
   "cell_type": "code",
   "execution_count": null,
   "id": "3393f6f7-ac55-45ae-92bd-ec91bbbd5d9b",
   "metadata": {},
   "outputs": [],
   "source": [
    "def display_index(data):\n",
    "    '''\n",
    "    This func will print the index with the value.\n",
    "    \n",
    "    '''\n",
    "    for i in range(len(data)):\n",
    "        print(The index of {0} is {1} \\n\".format(data[i], i))"
   ]
  },
  {
   "cell_type": "code",
   "execution_count": null,
   "id": "83b9f791-9b8f-41ac-8fee-472646c133cb",
   "metadata": {},
   "outputs": [],
   "source": [
    "display_index(data_input())"
   ]
  },
  {
   "cell_type": "markdown",
   "id": "dde22719-4f6a-4899-9b3d-0a7f2e728329",
   "metadata": {},
   "source": [
    "<h3>3 . Write a fun which will take input as a dict and give me out as a list of all the values \n",
    "even in case of 2 level nesting it should work . "
   ]
  },
  {
   "cell_type": "code",
   "execution_count": null,
   "id": "af15e990-8647-4840-bab8-020f596bdaf4",
   "metadata": {},
   "outputs": [],
   "source": [
    "import ast"
   ]
  },
  {
   "cell_type": "code",
   "execution_count": null,
   "id": "887cf4f7-f254-4808-8f26-938d41efcb47",
   "metadata": {},
   "outputs": [],
   "source": [
    "data = dict()\n",
    "i=0\n",
    "\n",
    "# Creating a input box which can accept data as key value pair with a space in between. You can also enter a dict as value\n",
    "\n",
    "while True:\n",
    "    user_input= input(\"Enter the Key and Value pairs with a space in between. Type 'Stop' to exit:  \")\n",
    "    if(user_input != \"stop\"):\n",
    "        temp = user_input.split(\" \", maxsplit = 1)\n",
    "        if(\"{\" in temp[1] or \"}\" in temp[1]):\n",
    "            data[temp[0]] = ast.literal_eval(temp[1])\n",
    "            i+=1\n",
    "        else:\n",
    "            data[temp[0]] = temp[1]\n",
    "            i+=1\n",
    "            \n",
    "    else:\n",
    "        break"
   ]
  },
  {
   "cell_type": "code",
   "execution_count": null,
   "id": "5a1e497f-0687-43aa-823c-71cf575e33f2",
   "metadata": {},
   "outputs": [],
   "source": [
    "# Creating a list of values with the dictionary \n",
    "\n",
    "output = list()\n",
    "for i in data.keys():\n",
    "    if (type(data[i]) == dict):\n",
    "        for j in data[i].keys():\n",
    "            output.append(data[i][j])\n",
    "    else:\n",
    "        output.append(data[i])"
   ]
  },
  {
   "cell_type": "code",
   "execution_count": null,
   "id": "6bd578ec-b4fa-4142-b2c1-1a3de1476c27",
   "metadata": {},
   "outputs": [],
   "source": [
    "output        "
   ]
  },
  {
   "cell_type": "markdown",
   "id": "519dc0e2-3a1a-42cf-b5fb-f4aeaa6c3801",
   "metadata": {},
   "source": [
    "<h3>4 . write a fun which will take another function as an input and return me an output "
   ]
  },
  {
   "cell_type": "code",
   "execution_count": null,
   "id": "12b0cc6d-2583-40e2-97a0-5062d45de9be",
   "metadata": {},
   "outputs": [],
   "source": [
    "user_input = ast.literal_eval(input(\"Enter only number with no space and as a list:  \"))"
   ]
  },
  {
   "cell_type": "code",
   "execution_count": null,
   "id": "925b94a9-27c5-40f7-babe-d2c47cf2d3b1",
   "metadata": {},
   "outputs": [],
   "source": [
    "def add (num):\n",
    "    '''\n",
    "    Func to add n numbers\n",
    "    \n",
    "    '''\n",
    "    sum = 0\n",
    "    counter = 0\n",
    "    for i in num:\n",
    "        sum = sum +i\n",
    "        counter +=1\n",
    "    return sum, counter\n",
    "        "
   ]
  },
  {
   "cell_type": "code",
   "execution_count": null,
   "id": "104b1ad5-ab97-4267-9074-836d02523f8f",
   "metadata": {},
   "outputs": [],
   "source": [
    "def average(func, num):\n",
    "    \n",
    "    '''\n",
    "    This function calculates the average of the numbers using the function 'sum' and the list of numbers passed as argument\n",
    "    \n",
    "    '''\n",
    "    x,y = func(num)\n",
    "    \n",
    "    return round(x/y, 4)"
   ]
  },
  {
   "cell_type": "code",
   "execution_count": null,
   "id": "8747a5ea-f0aa-4527-a133-2546e5520435",
   "metadata": {},
   "outputs": [],
   "source": [
    "average(add, user_input)"
   ]
  },
  {
   "cell_type": "markdown",
   "id": "cbbc7481-b9cc-4f0b-8df6-10389ea90f91",
   "metadata": {},
   "source": [
    "<h3>5. write a function whihc will take multiple list as a input and give me concatnation of all the element as \n",
    "and output "
   ]
  },
  {
   "cell_type": "code",
   "execution_count": null,
   "id": "ef3cbbf3-33d0-46cf-86b7-b75e2e4af9fa",
   "metadata": {},
   "outputs": [],
   "source": [
    "def concat_list():\n",
    "    '''\n",
    "    This function will take lists as input and will resturn the concatenated list\n",
    "    \n",
    "    '''\n",
    "    output = []\n",
    "    while True:\n",
    "        user_input = ast.literal_eval(input(\"Enter the list to concatenate. Type '0' to exit:  \"))\n",
    "        if (user_input !=0):\n",
    "            output.extend(user_input)\n",
    "        else:\n",
    "            break\n",
    "    return output"
   ]
  },
  {
   "cell_type": "code",
   "execution_count": null,
   "id": "2a1d6aba-c44b-44d4-a106-c9296a3bcf14",
   "metadata": {},
   "outputs": [],
   "source": [
    "concat_list()"
   ]
  },
  {
   "cell_type": "markdown",
   "id": "177b7f05-d525-4552-a71a-2a05e491c739",
   "metadata": {},
   "source": [
    "<h3>6 . write a function which will be able to take a list as an input return an index of each element \n",
    "like a inbuilt index function but even if we have repetative element it should return index "
   ]
  },
  {
   "cell_type": "code",
   "execution_count": null,
   "id": "1fedc9f6-d4c9-41d8-882c-bc8872da2c3d",
   "metadata": {},
   "outputs": [],
   "source": [
    "user_input = ast.literal_eval(input(\"Enter the list: \"))"
   ]
  },
  {
   "cell_type": "code",
   "execution_count": null,
   "id": "6ed4f3c2-9448-4f71-94c1-c34282f0705c",
   "metadata": {},
   "outputs": [],
   "source": [
    "def Indexer(list, item):\n",
    "    '''\n",
    "    this func will take a list as an argument and will provide the index of an element.\n",
    "    \n",
    "    If the element repeats then it will provide all the indexes at which the number is present\n",
    "    \n",
    "    '''\n",
    "    index = []\n",
    "    for i in range(len(list)):\n",
    "        if (list[i] == item or list[i] == int(item)):\n",
    "            index.append(i)\n",
    "        else:\n",
    "            pass\n",
    "    return index"
   ]
  },
  {
   "cell_type": "code",
   "execution_count": null,
   "id": "dd67fa21-d465-40c9-a66f-d7ec422d01d3",
   "metadata": {},
   "outputs": [],
   "source": [
    "Indexer(user_input, input(\"Enter the item to search\"))\n"
   ]
  },
  {
   "cell_type": "markdown",
   "id": "3acb1e36-9ff3-4734-a8d1-d0b3501ccf18",
   "metadata": {},
   "source": [
    "<h3>7 . Write a function which will whould return list of all the file name from a directory . "
   ]
  },
  {
   "cell_type": "code",
   "execution_count": null,
   "id": "8f16c260-d8a0-49bd-a26a-c40e29c4175d",
   "metadata": {},
   "outputs": [],
   "source": [
    "import os,shutil"
   ]
  },
  {
   "cell_type": "code",
   "execution_count": null,
   "id": "409c6f54-c850-4772-b5a9-44734bde4563",
   "metadata": {},
   "outputs": [],
   "source": [
    "user_input = input(\"Enter the path with single forward slash : \")\n",
    "list = os.listdir(user_input)"
   ]
  },
  {
   "cell_type": "code",
   "execution_count": null,
   "id": "d80cf138-be0a-4a41-a197-570650ca3ddc",
   "metadata": {
    "tags": []
   },
   "outputs": [],
   "source": [
    "list    "
   ]
  },
  {
   "cell_type": "markdown",
   "id": "90d9880a-9700-4f3a-9532-589138a4f281",
   "metadata": {},
   "source": [
    "<h3>8  . write a function which will be able to show your system configuration . "
   ]
  },
  {
   "cell_type": "code",
   "execution_count": null,
   "id": "e3a5d923-3604-4f9e-9a2f-70e253e6f119",
   "metadata": {},
   "outputs": [],
   "source": [
    "# Launching the msinfo32.exe file directly from the system32 directory\n",
    "\n",
    "os.system(\"C:\\\\Windows\\\\System32\\\\msinfo32\")"
   ]
  },
  {
   "cell_type": "code",
   "execution_count": null,
   "id": "c43d2006-f9e4-4ec6-9ed0-5e6776f3ada0",
   "metadata": {},
   "outputs": [],
   "source": [
    "# Using platform to display the config\n",
    "\n",
    "import platform\n",
    "\n",
    "platform.uname()"
   ]
  },
  {
   "cell_type": "markdown",
   "id": "0c4bf97b-7652-40ba-9a3a-8bcf3fd5b1b7",
   "metadata": {},
   "source": [
    "<h3>9 . write a function which will be able to show date and time  . "
   ]
  },
  {
   "cell_type": "code",
   "execution_count": null,
   "id": "ef1b85d4-8769-405a-ba8f-4d13250c4dd6",
   "metadata": {},
   "outputs": [],
   "source": [
    "# Using datetime module to display the current date and time\n",
    "\n",
    "import datetime\n",
    "\n",
    "now = datetime.datetime.now()\n",
    "print(now.strftime(\"%d-%m-%Y %H:%M:%S\"))"
   ]
  },
  {
   "cell_type": "markdown",
   "id": "2550ef3f-6ebd-4e21-92fe-1b172fc80504",
   "metadata": {},
   "source": [
    "<h3>10 . write a function whihc will be able to read a image file and show it to you ."
   ]
  },
  {
   "cell_type": "code",
   "execution_count": null,
   "id": "6954a631-474d-4126-9ec5-6c29849481f0",
   "metadata": {},
   "outputs": [],
   "source": [
    "import cv2\n",
    "import matplotlib.pyplot as plt\n",
    "\n",
    "path = input(\"Enter the path to the image with single forward slash: \")"
   ]
  },
  {
   "cell_type": "code",
   "execution_count": null,
   "id": "0e9d26ce-b4a4-49ee-975e-4d1ea3cd70c7",
   "metadata": {},
   "outputs": [],
   "source": [
    "img = cv2.imread(path)\n",
    "plt.imshow(img)"
   ]
  },
  {
   "cell_type": "markdown",
   "id": "d79b0cda-290f-4572-916f-75965e85c984",
   "metadata": {},
   "source": [
    "<h3>11 . write a function which can read video file and play for you . "
   ]
  },
  {
   "cell_type": "code",
   "execution_count": null,
   "id": "1b9980bc-63ff-4646-bae8-1b270dff767f",
   "metadata": {},
   "outputs": [],
   "source": [
    "path = input(\"Enter the path to the Video with single forward slash: \")"
   ]
  },
  {
   "cell_type": "code",
   "execution_count": null,
   "id": "ea419747-abac-40a9-91c7-d53643ced0db",
   "metadata": {},
   "outputs": [],
   "source": [
    "import cv2\n",
    "video = cv2.VideoCapture(path)"
   ]
  },
  {
   "cell_type": "code",
   "execution_count": null,
   "id": "1a8603e1-e938-40b7-ad73-6fdb07f03867",
   "metadata": {},
   "outputs": [],
   "source": [
    "while(video.isOpened()):\n",
    "\n",
    "    ret, frame = video.read()\n",
    "    if ret == True:\n",
    "        cv2.imshow('Frame', frame)\n",
    "        if cv2.waitKey(25) == ord('q'):\n",
    "            break\n",
    "    else:\n",
    "        break"
   ]
  },
  {
   "cell_type": "code",
   "execution_count": null,
   "id": "57bad606-a8c7-4c96-b254-76e50a9aa1a9",
   "metadata": {},
   "outputs": [],
   "source": [
    "cv2.destroyAllWindows()"
   ]
  },
  {
   "cell_type": "markdown",
   "id": "73b97c69-4441-4e5e-9bac-6d1ebd7c38f1",
   "metadata": {},
   "source": [
    "<h3>12  . write a function whihc can move a file from one directory to another directory . "
   ]
  },
  {
   "cell_type": "code",
   "execution_count": null,
   "id": "8e8b04ff-b3f8-4e5c-ab51-0701835393b7",
   "metadata": {},
   "outputs": [],
   "source": [
    "def dir_create(path):\n",
    "    '''\n",
    "    This function take a directory that does not exist and then creates it\n",
    "    \n",
    "    '''\n",
    "    split_path = path.rsplit(\"\\\\\", maxsplit = 1)[0].split(\"\\\\\")\n",
    "    temp_path=split_path[0]\n",
    "    i=1\n",
    "    while i < len(split_path)+1:\n",
    "        if not os.path.exists(temp_path):\n",
    "            os.mkdir(temp_path)\n",
    "        else:\n",
    "            pass\n",
    "        try:\n",
    "            temp_path = temp_path+\"\\\\\"+split_path[i]\n",
    "        except:\n",
    "            pass\n",
    "        i+=1\n",
    "    print(\"{0} created\".format(path))"
   ]
  },
  {
   "cell_type": "code",
   "execution_count": null,
   "id": "cb7e6639-3647-4004-a3e3-4d92b9c85f2d",
   "metadata": {},
   "outputs": [],
   "source": [
    "def file_transfer(curr_path, dest_path):\n",
    "    '''\n",
    "    This func takes the current path of a file and then moves it to a different directory\n",
    "    \n",
    "    '''\n",
    "    if os.path.exists(curr_path) == True:\n",
    "        if(os.path.exists(dest_path.rsplit(\"\\\\\", maxsplit = 1)[0]) == True):\n",
    "            if(os.path.exists(dest_path) == True):\n",
    "                print(\"The destination directory already exists\")\n",
    "            else:\n",
    "                shutil.move(curr_path, dest_path)\n",
    "        else:\n",
    "            print(\"The destination directory does not exist\")\n",
    "            inp = input(\"Type 'yes' if you want to create the directory or 'no' if you want to cancel: \")\n",
    "            if(inp == \"yes\"):\n",
    "                dir_create(dest_path)\n",
    "                shutil.move(curr_path, dest_path)\n",
    "            else:\n",
    "                print(\"You exited the menu\")\n",
    "                return\n",
    "    else:\n",
    "        print(\"The source path is not valid\")\n",
    "            "
   ]
  },
  {
   "cell_type": "code",
   "execution_count": null,
   "id": "cefae6d0-fe75-447b-b576-9fd82d36db8d",
   "metadata": {},
   "outputs": [],
   "source": [
    "file_transfer(r\"C:\\Users\\eva\\Downloads\\Assignment\\Assignment2.docx\", r\"C:\\Users\\eva\\Downloads\\naya\\test1\\test2\\Assignment2.docx\")"
   ]
  },
  {
   "cell_type": "markdown",
   "id": "4c457b12-bdc5-4ca2-be4e-a32ed44e8ac2",
   "metadata": {},
   "source": [
    "<h3>13 . write a function which will be able to shutdonw your system . "
   ]
  },
  {
   "cell_type": "code",
   "execution_count": null,
   "id": "fbee583d-bad8-43c9-88c8-2e9487b8d0e5",
   "metadata": {},
   "outputs": [],
   "source": [
    "def shutdown():\n",
    "    '''\n",
    "    Asking user if he wants to shutdown the computer or not then proceeding accordingly\n",
    "    \n",
    "    '''\n",
    "    input_ = str(input(\"Do you want to shutdown the computer (yes/no):  \"))\n",
    "    if input_ == \"yes\":\n",
    "        os.system(\"shutdown /s /t 2\")\n",
    "    else:\n",
    "        print(\"Exited the menu\")"
   ]
  },
  {
   "cell_type": "code",
   "execution_count": null,
   "id": "4ba8a50b-4c88-479d-9788-d23bf4d390cb",
   "metadata": {},
   "outputs": [],
   "source": [
    "shutdown()"
   ]
  },
  {
   "cell_type": "markdown",
   "id": "c4846457-7dc1-420e-926b-102c855cdef8",
   "metadata": {},
   "source": [
    "<h3>14 . write a function whihc will be able to access your mail . "
   ]
  },
  {
   "cell_type": "code",
   "execution_count": null,
   "id": "ef27bf76-9127-4f73-96f9-e7de04026656",
   "metadata": {},
   "outputs": [],
   "source": [
    "import imaplib, email"
   ]
  },
  {
   "cell_type": "code",
   "execution_count": null,
   "id": "049c8a6f-2e92-4ecf-b349-e35a85b88ace",
   "metadata": {},
   "outputs": [],
   "source": [
    "user_name = input(\"Enter the username: \")\n",
    "password = input(\"Enter the password:  \")\n",
    "imap_url = \"imap.gmail.com\"\n",
    "\n",
    "print('Please make sure to turn on \"Less secure app access\" in Google account settings--->Security')"
   ]
  },
  {
   "cell_type": "code",
   "execution_count": null,
   "id": "a693f017-35d6-4235-a137-9713443919c7",
   "metadata": {},
   "outputs": [],
   "source": [
    "con = imaplib.IMAP4_SSL(imap_url)"
   ]
  },
  {
   "cell_type": "code",
   "execution_count": null,
   "id": "6c181d02-8689-4d00-bf62-b17079cc14d0",
   "metadata": {},
   "outputs": [],
   "source": [
    "con.login(user_name, password)"
   ]
  },
  {
   "cell_type": "code",
   "execution_count": null,
   "id": "6f57ad63-00fa-42a9-833e-36a206159fcf",
   "metadata": {},
   "outputs": [],
   "source": [
    "con.select(\"inbox\", readonly = True)"
   ]
  },
  {
   "cell_type": "code",
   "execution_count": null,
   "id": "0f970923-bfbd-4c2b-bfb9-4f4934915769",
   "metadata": {
    "tags": []
   },
   "outputs": [],
   "source": [
    "status, msgs_no  = con.search(None, \"ALL\")"
   ]
  },
  {
   "cell_type": "code",
   "execution_count": null,
   "id": "6ed3b6a3-822d-44a3-a2b1-83ab00eef0d4",
   "metadata": {
    "tags": []
   },
   "outputs": [],
   "source": [
    "def emails_display(msgs_no):\n",
    "    \n",
    "    '''\n",
    "    This func returns the fetches the latest 5 messages from the Searched msg list\n",
    "    '''\n",
    "    msgs = []\n",
    "    i=1\n",
    "    \n",
    "    for num in msgs_no[0].split()[::-1]:\n",
    "        status, temp = con.fetch(num, '(RFC822)')\n",
    "        msgs.append(temp)\n",
    "        i+=1\n",
    "        if i == 5:\n",
    "            return msgs"
   ]
  },
  {
   "cell_type": "code",
   "execution_count": null,
   "id": "a3a43715-f6c5-428f-b255-0d2da767d089",
   "metadata": {
    "tags": []
   },
   "outputs": [],
   "source": [
    "dict = {1:\"1st\", 2:\"2nd\", 3:\"3rd\", 4:\"4th\", 5: \"5th\"}\n",
    "j=1\n",
    "for i in emails_display(msgs_no):\n",
    "        msg = email.message_from_bytes(i[0][1])\n",
    "        print(\"This is the main body of the {0} Email:------------------ \\n\".format(dict[j]))\n",
    "        for part in msg.walk():\n",
    "            print (part.get_payload(None, True), \"\\n\\n\")\n",
    "        j+=1"
   ]
  },
  {
   "cell_type": "markdown",
   "id": "4a549234-3553-4c9b-8dad-5c950161f027",
   "metadata": {},
   "source": [
    "<h3>15 . write a func bywhcih i can send a mail to anyone "
   ]
  },
  {
   "cell_type": "code",
   "execution_count": null,
   "id": "f81bb9ca-f90c-4393-a57d-c393b43a9884",
   "metadata": {},
   "outputs": [],
   "source": [
    "rec_email = input(\"Enter the reciever's Email ID: \")"
   ]
  },
  {
   "cell_type": "code",
   "execution_count": null,
   "id": "2f4d176f-97d0-4736-b031-c3940538e1f9",
   "metadata": {},
   "outputs": [],
   "source": [
    "import smtplib"
   ]
  },
  {
   "cell_type": "code",
   "execution_count": null,
   "id": "41b3c94c-e16f-4b91-8fd3-9b93a445a04a",
   "metadata": {},
   "outputs": [],
   "source": [
    "def send_email(sender_email,sender_pass, rec_email, smtp_object):\n",
    "    '''\n",
    "    This func takes the your Email ID, pass and the Reciever's Email id and send an Email with the message that you want \n",
    "    '''\n",
    "    smtp_object.login(sender_email, sender_pass)\n",
    "    smtp_object.sendmail(sender_email, rec_email, str(input(\"Enter the msg that you want to send: \")))\n",
    "    return print(\"Email has been sent\")"
   ]
  },
  {
   "cell_type": "code",
   "execution_count": null,
   "id": "c4c9ec65-bc0a-4ff0-ba72-2852c83f1b51",
   "metadata": {},
   "outputs": [],
   "source": [
    "s = smtplib.SMTP('smtp.gmail.com', 587)\n",
    "s.starttls()"
   ]
  },
  {
   "cell_type": "code",
   "execution_count": null,
   "id": "36cd8fbc-3ba5-4791-95ed-23623f84c967",
   "metadata": {},
   "outputs": [],
   "source": [
    "send_email(user_name, password, rec_email,s)"
   ]
  },
  {
   "cell_type": "markdown",
   "id": "6fa303ff-bb1c-40a1-adb9-5a5d6fbb6a56",
   "metadata": {},
   "source": [
    "<h3>16. write a func to read a complete PDf file . "
   ]
  },
  {
   "cell_type": "code",
   "execution_count": null,
   "id": "24b8c02d-073f-4784-b4c4-f0a429fa62d5",
   "metadata": {},
   "outputs": [],
   "source": [
    "import PyPDF2"
   ]
  },
  {
   "cell_type": "code",
   "execution_count": null,
   "id": "a43d852b-7b12-47bb-b463-3d2e3da24e54",
   "metadata": {},
   "outputs": [],
   "source": [
    "def pdf_read(file_path):\n",
    "    '''\n",
    "    this func helps read a pdf file\n",
    "    \n",
    "    '''\n",
    "    \n",
    "    file = open(file_path, 'rb')\n",
    "    fileReader = PyPDF2.PdfFileReader(file)\n",
    "    for i in range(fileReader.numPages):\n",
    "        page = fileReader.getPage(i)\n",
    "        print(page.extractText())\n",
    "    "
   ]
  },
  {
   "cell_type": "code",
   "execution_count": null,
   "id": "df192e73-9cc3-403e-b558-ef51c8c29d46",
   "metadata": {},
   "outputs": [],
   "source": [
    "file_path = str(input(\"Enter the file path: \"))"
   ]
  },
  {
   "cell_type": "code",
   "execution_count": null,
   "id": "f46fbf95-0edb-4e31-bf8f-72a1794492f8",
   "metadata": {
    "tags": []
   },
   "outputs": [],
   "source": [
    "pdf_read(file_path)"
   ]
  },
  {
   "cell_type": "markdown",
   "id": "5b69f5db-3d11-455c-a3ea-0a31751e7d62",
   "metadata": {},
   "source": [
    "<h3>17. write a function to read a word file . "
   ]
  },
  {
   "cell_type": "code",
   "execution_count": null,
   "id": "e97cd228-01d5-4b25-bb5d-bce5b93f70f5",
   "metadata": {},
   "outputs": [],
   "source": [
    "import docx\n",
    "\n",
    "file_path = input(\"Enter the file path: \")\n"
   ]
  },
  {
   "cell_type": "code",
   "execution_count": null,
   "id": "18299844-ddf4-4419-ba47-d9e9bee0660f",
   "metadata": {},
   "outputs": [],
   "source": [
    "def pdf_read(file_path):\n",
    "    '''\n",
    "    This function reads and print the pdf content\n",
    "    \n",
    "    '''\n",
    "    \n",
    "    document = docx.Document(file_path)\n",
    "    for para in document.paragraphs:\n",
    "        print(para.text)"
   ]
  },
  {
   "cell_type": "code",
   "execution_count": null,
   "id": "609f366e-2bc4-4aae-9ef9-c4a6a63bf190",
   "metadata": {},
   "outputs": [],
   "source": [
    "pdf_read(file_path)"
   ]
  },
  {
   "cell_type": "markdown",
   "id": "93bab7a0-7ecc-4a8e-9f04-86400924f773",
   "metadata": {
    "tags": []
   },
   "source": [
    "<h3>18 . write a function which can help you to filter only word file from a directory . "
   ]
  },
  {
   "cell_type": "code",
   "execution_count": null,
   "id": "aec224fa-9057-444a-ba16-e9f60bc0e769",
   "metadata": {},
   "outputs": [],
   "source": [
    "path = input(\"Enter the file path: \")"
   ]
  },
  {
   "cell_type": "code",
   "execution_count": null,
   "id": "5f5fd2e8-c397-40db-9f16-38335041e29f",
   "metadata": {},
   "outputs": [],
   "source": [
    "os.chdir(path)"
   ]
  },
  {
   "cell_type": "code",
   "execution_count": null,
   "id": "53eb99d2-de83-46cc-8d17-56e6321ec331",
   "metadata": {},
   "outputs": [],
   "source": [
    "def search_docx(path):\n",
    "    '''\n",
    "    This function searches for docx file\n",
    "    '''\n",
    "    lst = []\n",
    "    for i in os.listdir():\n",
    "        if \".docx\" in i:\n",
    "            lst.append(i)\n",
    "\n",
    "    print(\"The following files are in '.docx' format: \\n\")\n",
    "    return lst"
   ]
  },
  {
   "cell_type": "code",
   "execution_count": null,
   "id": "0b20ba48-1564-438a-9f20-7c4858b87eea",
   "metadata": {},
   "outputs": [],
   "source": [
    "search_docx(path)"
   ]
  },
  {
   "cell_type": "markdown",
   "id": "a9a1a980-a9aa-4181-aec8-e9b2759809d7",
   "metadata": {},
   "source": [
    "<h3>19 . write a function by which you can print an ip address of your system . "
   ]
  },
  {
   "cell_type": "code",
   "execution_count": null,
   "id": "9b84fc00-d247-4579-af28-cb1dd8906e08",
   "metadata": {},
   "outputs": [],
   "source": [
    "def ip_add():\n",
    "    ip = socket.gethostbyname(socket.gethostname())\n",
    "    return ip"
   ]
  },
  {
   "cell_type": "code",
   "execution_count": null,
   "id": "f165e0ae-4092-43c3-8eb8-ab6f1e3b7d4e",
   "metadata": {},
   "outputs": [],
   "source": [
    "import socket"
   ]
  },
  {
   "cell_type": "code",
   "execution_count": null,
   "id": "9eb29cd6-11b8-4362-8433-a21cb310009c",
   "metadata": {},
   "outputs": [],
   "source": [
    "ip_add()"
   ]
  },
  {
   "cell_type": "markdown",
   "id": "22751366-59db-4f8a-93da-86e418e7f36f",
   "metadata": {},
   "source": [
    "<h3>20 . write a function by which you will be able to append two PDF files . "
   ]
  },
  {
   "cell_type": "code",
   "execution_count": null,
   "id": "685df3c1-fbfe-4774-b59e-2fa94d3be6a7",
   "metadata": {},
   "outputs": [],
   "source": [
    "file1 = input(\"Enter the file path for 1st file: \")\n",
    "file2 = input(\"Enter the file path for 2nd file: \")"
   ]
  },
  {
   "cell_type": "code",
   "execution_count": null,
   "id": "67fa60c7-ef80-4060-9d84-be4a366341b9",
   "metadata": {},
   "outputs": [],
   "source": [
    "import PyPDF2\n",
    "merger = PyPDF2.PdfFileMerger()\n",
    "\n",
    "file1 = PyPDF2.PdfFileReader(file1, 'rb')\n",
    "file2 = PyPDF2.PdfFileReader(file2, 'rb')"
   ]
  },
  {
   "cell_type": "code",
   "execution_count": null,
   "id": "76ac0448-7ae0-4548-b765-c0a18299813a",
   "metadata": {},
   "outputs": [],
   "source": [
    "def pdf_merge(file1, file2, merge_obj):\n",
    "    '''\n",
    "    This function reads and print the pdf content\n",
    "\n",
    "    '''\n",
    "    \n",
    "    merge_obj.append(file1)\n",
    "    merge_obj.append(file2)\n",
    "    merge_obj.write(\"result.pdf\")"
   ]
  },
  {
   "cell_type": "code",
   "execution_count": null,
   "id": "9459edd9-1753-4e0a-beed-6971562607d9",
   "metadata": {},
   "outputs": [],
   "source": [
    "pdf_merge(file1,file2, merger)"
   ]
  },
  {
   "cell_type": "code",
   "execution_count": null,
   "id": "8f0c22fc-8f7b-4736-964f-927c08a06f3a",
   "metadata": {},
   "outputs": [],
   "source": []
  }
 ],
 "metadata": {
  "kernelspec": {
   "display_name": "Python 3 (ipykernel)",
   "language": "python",
   "name": "python3"
  },
  "language_info": {
   "codemirror_mode": {
    "name": "ipython",
    "version": 3
   },
   "file_extension": ".py",
   "mimetype": "text/x-python",
   "name": "python",
   "nbconvert_exporter": "python",
   "pygments_lexer": "ipython3",
   "version": "3.9.7"
  }
 },
 "nbformat": 4,
 "nbformat_minor": 5
}
